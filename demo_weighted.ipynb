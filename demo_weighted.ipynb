{
 "cells": [
  {
   "cell_type": "markdown",
   "metadata": {},
   "source": [
    "# Weighted CELL\n",
    "\n",
    "This notebook contains an example that uses DirectedCELL with node embeddings and a regression model to predict edge weights in a synthetic graph"
   ]
  },
  {
   "cell_type": "code",
   "execution_count": 1,
   "metadata": {},
   "outputs": [
    {
     "name": "stdout",
     "output_type": "stream",
     "text": [
      "{'|N|': 1899, '|E|': 20291, '#Nodes in largest SCC': 1294}\n"
     ]
    }
   ],
   "source": [
    "# Load the Messages graph\n",
    "import networkx as nx\n",
    "import os\n",
    "from directed_cell.utils import load_dataset, graph_summary, to_unweighted\n",
    "messages_path = os.path.join(os.getcwd(), 'datasets', 'facebook_messages.txt')\n",
    "\n",
    "G_weighted = load_dataset(messages_path, directed=True, delim=',', format=['from', 'to', 'weight'])\n",
    "\n",
    "G_unweighted = to_unweighted(G_weighted)\n",
    "# print some summarizing statistics\n",
    "print(graph_summary(G_unweighted))"
   ]
  },
  {
   "cell_type": "markdown",
   "metadata": {},
   "source": [
    "## Train a DirectedCELL model on an unweighted version of the graph"
   ]
  },
  {
   "cell_type": "code",
   "execution_count": 2,
   "metadata": {},
   "outputs": [
    {
     "name": "stderr",
     "output_type": "stream",
     "text": [
      "z:\\prog\\Directed_CELL\\venv\\lib\\site-packages\\tqdm\\auto.py:22: TqdmWarning: IProgress not found. Please update jupyter and ipywidgets. See https://ipywidgets.readthedocs.io/en/stable/user_install.html\n",
      "  from .autonotebook import tqdm as notebook_tqdm\n"
     ]
    },
    {
     "name": "stdout",
     "output_type": "stream",
     "text": [
      "performing strong connectivity augmentation...\n",
      "overlap: 0.0055689714651816075\n",
      "overlap: 0.2243851954068306\n",
      "overlap: 0.3602089596372776\n",
      "overlap: 0.42782514415257994\n",
      "overlap: 0.47937509240549997\n",
      "overlap: 0.5078113449312504\n",
      "overlap: 0.5326992262579469\n"
     ]
    }
   ],
   "source": [
    "from directed_cell.cell import CELL\n",
    "import directed_cell.options as options\n",
    "\n",
    "A_unweighted = nx.to_scipy_sparse_matrix(G_unweighted)\n",
    "\n",
    "model = CELL(\n",
    "    A = A_unweighted,\n",
    "    H = 25,\n",
    "    loss_fn = options.RegularLossFunction(),\n",
    "    sampling_fn = options.SampleGraphRegular(),\n",
    "    criterion = options.EdgeOverlapCriterion(\n",
    "        A=A_unweighted, \n",
    "        interval=10, \n",
    "        overlap=0.52, \n",
    "        verbose=True, \n",
    "        directed=True\n",
    "    ),\n",
    "    augmentation_denominator=10,\n",
    "    directed = True\n",
    ")\n",
    "\n",
    "model.train(\n",
    "    steps = 200,\n",
    "    lr = 0.1,\n",
    "    weight_decay = 1e-7,\n",
    "    verbose = False\n",
    ")"
   ]
  },
  {
   "cell_type": "markdown",
   "metadata": {},
   "source": [
    "## Sample an unweighted graph and make it weighted"
   ]
  },
  {
   "cell_type": "code",
   "execution_count": 10,
   "metadata": {},
   "outputs": [
    {
     "name": "stdout",
     "output_type": "stream",
     "text": [
      "Embedding input and output graph\n"
     ]
    },
    {
     "name": "stderr",
     "output_type": "stream",
     "text": [
      "Computing transition probabilities: 100%|██████████| 3798/3798 [00:06<00:00, 607.10it/s] \n"
     ]
    },
    {
     "name": "stdout",
     "output_type": "stream",
     "text": [
      "Creating features from embeddings\n",
      "Training regressor\n",
      "Metrics for regression:\n",
      "      mean absolute error:               71.782\n",
      "    median absolute error:               52.817\n",
      "       mean squared error:            15468.193\n",
      "                max error:             2949.147\n",
      "                 r2 score:                0.245\n",
      " explained variance score:                0.245\n",
      "\n",
      "Percentiles:\n",
      "                        5:              -88.536\n",
      "                       25:              -60.795\n",
      "                       50:              -33.757\n",
      "                       75:               18.368\n",
      "                       95:              197.354\n",
      "predictions during training: 31.688597 1342.3553\n",
      "predictions on test set 29.377153 1342.3553\n"
     ]
    }
   ],
   "source": [
    "from directed_cell.weight_regression_cell import WeightRegressor\n",
    "from directed_cell.embeddings import Node2VecEmbedder\n",
    "from xgboost import XGBRegressor\n",
    "\n",
    "weight_regressor = WeightRegressor(\n",
    "    G = G_weighted,\n",
    "    regression_model = XGBRegressor(),\n",
    "    embedder = Node2VecEmbedder(workers=5)\n",
    ")\n",
    "\n",
    "G_hat_unweighted = nx.DiGraph(model.sample_graph())\n",
    "G_hat = weight_regressor.train_regression_model_and_sample_graph(G_hat_unweighted, verbose=True)"
   ]
  },
  {
   "cell_type": "markdown",
   "metadata": {},
   "source": [
    "## Compare evaluation metrics between synthetic and original weighted graph"
   ]
  },
  {
   "cell_type": "code",
   "execution_count": null,
   "metadata": {},
   "outputs": [],
   "source": [
    "# Sample some graphs and evaluate them\n",
    "from directed_cell.evaluation import weighted_evaluation_pipeline\n",
    "import pandas as pd\n",
    "evaluation_pipeline = weighted_evaluation_pipeline(verbose = True)\n",
    "stats = evaluation_pipeline.evaluate_G_hats([G_hat])\n",
    "G_stats = evaluation_pipeline.evaluate_G(G_weighted)\n",
    "\n",
    "concat_stats = pd.concat([stats, G_stats['value']], axis=1).round(3)\n",
    "concat_stats.rename(columns={'value':'ground truth'})"
   ]
  }
 ],
 "metadata": {
  "interpreter": {
   "hash": "fd97f4e109e8708dfe1572c938f07cc07491a1ecc9ad691f64020f12719f2e6b"
  },
  "kernelspec": {
   "display_name": "Python 3.9.7 ('venv': venv)",
   "language": "python",
   "name": "python3"
  },
  "language_info": {
   "codemirror_mode": {
    "name": "ipython",
    "version": 3
   },
   "file_extension": ".py",
   "mimetype": "text/x-python",
   "name": "python",
   "nbconvert_exporter": "python",
   "pygments_lexer": "ipython3",
   "version": "3.9.6"
  },
  "orig_nbformat": 4
 },
 "nbformat": 4,
 "nbformat_minor": 2
}
